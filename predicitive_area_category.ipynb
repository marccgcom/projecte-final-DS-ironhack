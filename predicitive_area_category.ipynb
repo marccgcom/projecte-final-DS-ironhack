{
 "cells": [
  {
   "cell_type": "code",
   "execution_count": 1,
   "id": "a4eda8df",
   "metadata": {
    "scrolled": false
   },
   "outputs": [
    {
     "name": "stderr",
     "output_type": "stream",
     "text": [
      "/usr/lib/python3/dist-packages/scipy/__init__.py:146: UserWarning: A NumPy version >=1.17.3 and <1.25.0 is required for this version of SciPy (detected version 1.26.4\n",
      "  warnings.warn(f\"A NumPy version >={np_minversion} and <{np_maxversion}\"\n"
     ]
    }
   ],
   "source": [
    "import pandas as pd\n",
    "from sklearn.model_selection import train_test_split\n",
    "from sklearn.preprocessing import StandardScaler, OneHotEncoder\n",
    "from sklearn.compose import ColumnTransformer\n",
    "from sklearn.pipeline import Pipeline\n",
    "from sklearn.ensemble import RandomForestRegressor\n",
    "from sklearn.metrics import mean_squared_error, r2_score\n",
    "import joblib\n",
    "\n",
    "# Cargar el dataset\n",
    "file_path = './forestfires.csv'\n",
    "df = pd.read_csv(file_path)\n"
   ]
  },
  {
   "cell_type": "code",
   "execution_count": 2,
   "id": "82bff20e",
   "metadata": {},
   "outputs": [],
   "source": [
    "# Categorizar FFMC\n",
    "def categorize_ffmc(value):\n",
    "    if value <= 30:\n",
    "        return 'Bajo'\n",
    "    elif value <= 60:\n",
    "        return 'Moderado'\n",
    "    elif value <= 80:\n",
    "        return 'Alto'\n",
    "    else:\n",
    "        return 'Muy Alto'\n",
    "\n",
    "# Categorizar DMC\n",
    "def categorize_dmc(value):\n",
    "    if value <= 10:\n",
    "        return 'Bajo'\n",
    "    elif value <= 20:\n",
    "        return 'Moderado'\n",
    "    elif value <= 30:\n",
    "        return 'Alto'\n",
    "    else:\n",
    "        return 'Muy Alto'\n",
    "\n",
    "# Categorizar DC\n",
    "def categorize_dc(value):\n",
    "    if value <= 100:\n",
    "        return 'Bajo'\n",
    "    elif value <= 200:\n",
    "        return 'Moderado'\n",
    "    elif value <= 300:\n",
    "        return 'Alto'\n",
    "    else:\n",
    "        return 'Muy Alto'\n",
    "\n",
    "# Categorizar ISI\n",
    "def categorize_isi(value):\n",
    "    if value <= 3:\n",
    "        return 'Bajo'\n",
    "    elif value <= 6:\n",
    "        return 'Moderado'\n",
    "    elif value <= 12:\n",
    "        return 'Alto'\n",
    "    else:\n",
    "        return 'Muy Alto'"
   ]
  },
  {
   "cell_type": "code",
   "execution_count": 3,
   "id": "381eddf9",
   "metadata": {},
   "outputs": [],
   "source": [
    "# Aplicar las funciones de categorización\n",
    "df['FFMC_category'] = df['FFMC'].apply(categorize_ffmc)\n",
    "df['DMC_category'] = df['DMC'].apply(categorize_dmc)\n",
    "df['DC_category'] = df['DC'].apply(categorize_dc)\n",
    "df['ISI_category'] = df['ISI'].apply(categorize_isi)"
   ]
  },
  {
   "cell_type": "code",
   "execution_count": 5,
   "id": "cb0965d1",
   "metadata": {},
   "outputs": [],
   "source": [
    "X = df.drop('area', axis=1)\n",
    "y = df['area']\n"
   ]
  },
  {
   "cell_type": "code",
   "execution_count": 10,
   "id": "caaf443b",
   "metadata": {},
   "outputs": [
    {
     "name": "stdout",
     "output_type": "stream",
     "text": [
      "RMSE: 110.508061520055\n",
      "R²: -0.035992373774221154\n"
     ]
    },
    {
     "name": "stderr",
     "output_type": "stream",
     "text": [
      "/home/mcabre/.local/lib/python3.10/site-packages/sklearn/metrics/_regression.py:492: FutureWarning: 'squared' is deprecated in version 1.4 and will be removed in 1.6. To calculate the root mean squared error, use the function'root_mean_squared_error'.\n",
      "  warnings.warn(\n"
     ]
    }
   ],
   "source": [
    "# Dividir en conjuntos de entrenamiento y prueba\n",
    "X_train, X_test, y_train, y_test = train_test_split(X, y, test_size=0.2, random_state=42)\n",
    "\n",
    "# Pipeline de preprocesamiento y modelo\n",
    "numeric_features = ['X', 'Y', 'temp', 'RH', 'wind', 'rain']\n",
    "categorical_features = ['day', 'FFMC_category', 'DMC_category', 'DC_category', 'ISI_category']\n",
    "preprocessor = ColumnTransformer(\n",
    "    transformers=[\n",
    "        ('num', StandardScaler(), numeric_features),\n",
    "        ('cat', OneHotEncoder(), categorical_features)\n",
    "    ])\n",
    "\n",
    "model = Pipeline(steps=[\n",
    "    ('preprocessor', preprocessor),\n",
    "    ('regressor', RandomForestRegressor(random_state=42))\n",
    "])\n",
    "\n",
    "# Entrenar el modelo\n",
    "model.fit(X_train, y_train)\n",
    "\n",
    "# Predecir en el conjunto de prueba\n",
    "y_pred = model.predict(X_test)\n",
    "rmse = mean_squared_error(y_test, y_pred, squared=False)\n",
    "r2 = r2_score(y_test, y_pred)\n",
    "\n",
    "print(f\"RMSE: {rmse}\")\n",
    "print(f\"R²: {r2}\")"
   ]
  },
  {
   "cell_type": "code",
   "execution_count": 3,
   "id": "fead5265",
   "metadata": {},
   "outputs": [
    {
     "data": {
      "text/plain": [
       "['forestfire_model.pkl']"
      ]
     },
     "execution_count": 3,
     "metadata": {},
     "output_type": "execute_result"
    }
   ],
   "source": [
    "joblib.dump(model, 'forestfire_model.pkl')"
   ]
  }
 ],
 "metadata": {
  "kernelspec": {
   "display_name": "Python 3 (ipykernel)",
   "language": "python",
   "name": "python3"
  },
  "language_info": {
   "codemirror_mode": {
    "name": "ipython",
    "version": 3
   },
   "file_extension": ".py",
   "mimetype": "text/x-python",
   "name": "python",
   "nbconvert_exporter": "python",
   "pygments_lexer": "ipython3",
   "version": "3.10.12"
  }
 },
 "nbformat": 4,
 "nbformat_minor": 5
}
