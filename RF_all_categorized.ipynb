{
 "cells": [
  {
   "cell_type": "markdown",
   "id": "a27c5ec5",
   "metadata": {},
   "source": []
  },
  {
   "cell_type": "code",
   "execution_count": 1,
   "id": "af6993de",
   "metadata": {},
   "outputs": [
    {
     "name": "stderr",
     "output_type": "stream",
     "text": [
      "/usr/lib/python3/dist-packages/scipy/__init__.py:146: UserWarning: A NumPy version >=1.17.3 and <1.25.0 is required for this version of SciPy (detected version 1.26.4\n",
      "  warnings.warn(f\"A NumPy version >={np_minversion} and <{np_maxversion}\"\n"
     ]
    }
   ],
   "source": [
    "import pandas as pd\n",
    "from sklearn.model_selection import train_test_split\n",
    "from sklearn.preprocessing import StandardScaler, OneHotEncoder\n",
    "from sklearn.compose import ColumnTransformer\n",
    "from sklearn.pipeline import Pipeline\n",
    "from sklearn.ensemble import RandomForestClassifier\n",
    "from sklearn.metrics import classification_report, accuracy_score\n",
    "\n",
    "# Cargar el dataset\n",
    "file_path = './forestfires.csv'\n",
    "df = pd.read_csv(file_path)\n",
    "\n",
    "# Funciones de categorización\n",
    "def categorize_ffmc(value):\n",
    "    if value <= 30:\n",
    "        return 'Bajo'\n",
    "    elif value <= 60:\n",
    "        return 'Moderado'\n",
    "    elif value <= 80:\n",
    "        return 'Alto'\n",
    "    else:\n",
    "        return 'Muy Alto'\n",
    "\n",
    "def categorize_dmc(value):\n",
    "    if value <= 10:\n",
    "        return 'Bajo'\n",
    "    elif value <= 20:\n",
    "        return 'Moderado'\n",
    "    elif value <= 30:\n",
    "        return 'Alto'\n",
    "    else:\n",
    "        return 'Muy Alto'\n",
    "\n",
    "def categorize_dc(value):\n",
    "    if value <= 100:\n",
    "        return 'Bajo'\n",
    "    elif value <= 200:\n",
    "        return 'Moderado'\n",
    "    elif value <= 300:\n",
    "        return 'Alto'\n",
    "    else:\n",
    "        return 'Muy Alto'\n",
    "\n",
    "def categorize_isi(value):\n",
    "    if value <= 3:\n",
    "        return 'Bajo'\n",
    "    elif value <= 6:\n",
    "        return 'Moderado'\n",
    "    elif value <= 12:\n",
    "        return 'Alto'\n",
    "    else:\n",
    "        return 'Muy Alto'\n",
    "\n",
    "def area_cat(area):\n",
    "    if area == 0.0:\n",
    "        return \"No damage\"\n",
    "    elif area <= 1:\n",
    "        return \"low\"\n",
    "    elif area <= 25:\n",
    "        return \"moderate\"\n",
    "    elif area <= 100:\n",
    "        return \"high\"\n",
    "    else:\n",
    "        return \"very high\"\n",
    "\n",
    "# Aplicar las funciones de categorización\n",
    "df['FFMC_category'] = df['FFMC'].apply(categorize_ffmc)\n",
    "df['DMC_category'] = df['DMC'].apply(categorize_dmc)\n",
    "df['DC_category'] = df['DC'].apply(categorize_dc)\n",
    "df['ISI_category'] = df['ISI'].apply(categorize_isi)\n",
    "df['area_category'] = df['area'].apply(area_cat)\n",
    "\n",
    "# Seleccionar características y etiqueta\n",
    "numeric_features = ['X', 'Y', 'temp', 'RH', 'wind', 'rain']\n",
    "categorical_features = ['day', 'FFMC_category', 'DMC_category', 'DC_category', 'ISI_category']\n",
    "X = df[numeric_features + categorical_features]\n",
    "y = df['area_category']\n",
    "\n",
    "# Dividir en conjuntos de entrenamiento y prueba\n",
    "X_train, X_test, y_train, y_test = train_test_split(X, y, test_size=0.2, random_state=42)\n"
   ]
  },
  {
   "cell_type": "code",
   "execution_count": 2,
   "id": "5b6349cb",
   "metadata": {},
   "outputs": [],
   "source": [
    "# Preprocesamiento\n",
    "preprocessor = ColumnTransformer(\n",
    "    transformers=[\n",
    "        ('num', StandardScaler(), numeric_features),\n",
    "        ('cat', OneHotEncoder(), categorical_features)\n",
    "    ])\n",
    "\n",
    "# Pipeline con el modelo\n",
    "model_pipeline = Pipeline(steps=[\n",
    "    ('preprocessor', preprocessor),\n",
    "    ('classifier', RandomForestClassifier(random_state=42))\n",
    "])\n",
    "\n",
    "# Entrenar el modelo\n",
    "model_pipeline.fit(X_train, y_train)\n",
    "\n",
    "# Realizar predicciones en el conjunto de prueba\n",
    "y_pred = model_pipeline.predict(X_test)\n"
   ]
  },
  {
   "cell_type": "code",
   "execution_count": 3,
   "id": "8dc8d495",
   "metadata": {},
   "outputs": [
    {
     "name": "stdout",
     "output_type": "stream",
     "text": [
      "Precisión del modelo: 0.46\n",
      "Reporte de Clasificación:\n",
      "              precision    recall  f1-score   support\n",
      "\n",
      "   No damage       0.55      0.71      0.62        51\n",
      "        high       0.00      0.00      0.00         9\n",
      "         low       0.00      0.00      0.00         5\n",
      "    moderate       0.38      0.32      0.35        37\n",
      "   very high       0.00      0.00      0.00         2\n",
      "\n",
      "    accuracy                           0.46       104\n",
      "   macro avg       0.18      0.21      0.19       104\n",
      "weighted avg       0.40      0.46      0.43       104\n",
      "\n"
     ]
    },
    {
     "name": "stderr",
     "output_type": "stream",
     "text": [
      "/home/mcabre/.local/lib/python3.10/site-packages/sklearn/metrics/_classification.py:1517: UndefinedMetricWarning: Precision is ill-defined and being set to 0.0 in labels with no predicted samples. Use `zero_division` parameter to control this behavior.\n",
      "  _warn_prf(average, modifier, f\"{metric.capitalize()} is\", len(result))\n",
      "/home/mcabre/.local/lib/python3.10/site-packages/sklearn/metrics/_classification.py:1517: UndefinedMetricWarning: Precision is ill-defined and being set to 0.0 in labels with no predicted samples. Use `zero_division` parameter to control this behavior.\n",
      "  _warn_prf(average, modifier, f\"{metric.capitalize()} is\", len(result))\n",
      "/home/mcabre/.local/lib/python3.10/site-packages/sklearn/metrics/_classification.py:1517: UndefinedMetricWarning: Precision is ill-defined and being set to 0.0 in labels with no predicted samples. Use `zero_division` parameter to control this behavior.\n",
      "  _warn_prf(average, modifier, f\"{metric.capitalize()} is\", len(result))\n"
     ]
    }
   ],
   "source": [
    "# Evaluar la precisión del modelo\n",
    "accuracy = accuracy_score(y_test, y_pred)\n",
    "print(f\"Precisión del modelo: {accuracy:.2f}\")\n",
    "\n",
    "# Reporte de clasificación\n",
    "print(\"Reporte de Clasificación:\")\n",
    "print(classification_report(y_test, y_pred))\n"
   ]
  },
  {
   "cell_type": "code",
   "execution_count": null,
   "id": "7ee4d274",
   "metadata": {},
   "outputs": [],
   "source": []
  }
 ],
 "metadata": {
  "kernelspec": {
   "display_name": "Python 3 (ipykernel)",
   "language": "python",
   "name": "python3"
  },
  "language_info": {
   "codemirror_mode": {
    "name": "ipython",
    "version": 3
   },
   "file_extension": ".py",
   "mimetype": "text/x-python",
   "name": "python",
   "nbconvert_exporter": "python",
   "pygments_lexer": "ipython3",
   "version": "3.10.12"
  }
 },
 "nbformat": 4,
 "nbformat_minor": 5
}
